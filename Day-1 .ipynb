{
 "cells": [
  {
   "cell_type": "markdown",
   "metadata": {},
   "source": [
    "### P5704 【深基2.例6】字母转换 题目描述\n",
    "\n",
    "输入一个小写字母，输出其对应的大写字母。例如输入 q[回车] 时，会输出 Q。\n"
   ]
  },
  {
   "cell_type": "code",
   "execution_count": 1,
   "metadata": {},
   "outputs": [
    {
     "name": "stdout",
     "output_type": "stream",
     "text": [
      "please enter a lowercase word:he is a boy\n",
      "The word is :He is a boy\n"
     ]
    }
   ],
   "source": [
    "word = input ('please enter a lowercase word:')\n",
    "print('The word is :' + word.capitalize())\n",
    "#.capitalize()是将str的首字母大写。"
   ]
  },
  {
   "cell_type": "code",
   "execution_count": 2,
   "metadata": {},
   "outputs": [
    {
     "name": "stdout",
     "output_type": "stream",
     "text": [
      "please enter a lowercase word:he is a boy\n",
      "The word is :He Is A Boy\n"
     ]
    }
   ],
   "source": [
    "word = input ('please enter a lowercase word:')\n",
    "print('The word is :' + word.title())\n",
    "#title()是将每个单词的首字母大写。"
   ]
  },
  {
   "cell_type": "markdown",
   "metadata": {},
   "source": [
    "### P1001题目描述\n",
    "\n",
    "输入两个整数 a, b 输出它们的和（∣a∣,∣b∣≤10^9）。"
   ]
  },
  {
   "cell_type": "code",
   "execution_count": 9,
   "metadata": {},
   "outputs": [
    {
     "name": "stdout",
     "output_type": "stream",
     "text": [
      "10 20\n",
      "30\n"
     ]
    }
   ],
   "source": [
    "a,b = map(int,input().split())\n",
    "print (a+b)"
   ]
  },
  {
   "cell_type": "code",
   "execution_count": 10,
   "metadata": {},
   "outputs": [
    {
     "name": "stdout",
     "output_type": "stream",
     "text": [
      "10 20\n",
      "1020\n"
     ]
    }
   ],
   "source": [
    "a,b = input().split()\n",
    "print(a+b)\n",
    "#这里split是按字符进行切分，所以a+b输出组合字符串"
   ]
  },
  {
   "cell_type": "code",
   "execution_count": null,
   "metadata": {},
   "outputs": [],
   "source": [
    "#eval获得一个字符串输入，会计算字符串中的表达式并返回结果）\n",
    "a,b = eval(input())\n",
    "print(a+b)\n",
    "a = \"[1,2],[3,4]\"\n",
    "b = eval(a[1])\n",
    "print(b)"
   ]
  },
  {
   "cell_type": "markdown",
   "metadata": {},
   "source": [
    "### P1000 超级玛丽游戏"
   ]
  },
  {
   "cell_type": "code",
   "execution_count": 17,
   "metadata": {},
   "outputs": [
    {
     "name": "stdout",
     "output_type": "stream",
     "text": [
      "                 ********\n",
      "               ************\n",
      "               ####....#.\n",
      "             #..###.....##....\n",
      "             ###.......######              ###            ###\n",
      "                ...........               #...#          #...#\n",
      "               ##*#######                 #.#.#          #.#.#\n",
      "            ####*******######             #.#.#          #.#.#\n",
      "           ...#***.****.*###....          #...#          #...#\n",
      "           ....**********##.....           ###            ###\n",
      "           ....****    *****....\n",
      "             ####        ####\n",
      "           ######        ######\n",
      "##############################################################\n",
      "#...#......#.##...#......#.##...#......#.##------------------#\n",
      "###########################################------------------#\n",
      "#..#....#....##..#....#....##..#....#....#####################\n",
      "##########################################    #----------#\n",
      "#.....#......##.....#......##.....#......#    #----------#\n",
      "##########################################    #----------#\n",
      "#.#..#....#..##.#..#....#..##.#..#....#..#    #----------#\n",
      "##########################################    ############\n"
     ]
    }
   ],
   "source": [
    "print('''                 ********\n",
    "               ************\n",
    "               ####....#.\n",
    "             #..###.....##....\n",
    "             ###.......######              ###            ###\n",
    "                ...........               #...#          #...#\n",
    "               ##*#######                 #.#.#          #.#.#\n",
    "            ####*******######             #.#.#          #.#.#\n",
    "           ...#***.****.*###....          #...#          #...#\n",
    "           ....**********##.....           ###            ###\n",
    "           ....****    *****....\n",
    "             ####        ####\n",
    "           ######        ######\n",
    "##############################################################\n",
    "#...#......#.##...#......#.##...#......#.##------------------#\n",
    "###########################################------------------#\n",
    "#..#....#....##..#....#....##..#....#....#####################\n",
    "##########################################    #----------#\n",
    "#.....#......##.....#......##.....#......#    #----------#\n",
    "##########################################    #----------#\n",
    "#.#..#....#..##.#..#....#..##.#..#....#..#    #----------#\n",
    "##########################################    ############''')"
   ]
  },
  {
   "cell_type": "markdown",
   "metadata": {},
   "source": [
    "### P5703 【深基2.例5】苹果采购题目描述\n",
    "现在需要采购一些苹果，每名同学都可以分到固定数量的苹果，并且已经知道了同学的数量，请问需要采购多少个苹果？\n",
    "\n",
    "输入格式:\n",
    "输入两个不超过 10^9 正整数，分别表示每人分到的数量和同学的人数。\n",
    "\n",
    "输出格式:\n",
    "一个整数，表示答案。保证输入和答案都在int范围内的非负整数。\n"
   ]
  },
  {
   "cell_type": "code",
   "execution_count": 18,
   "metadata": {},
   "outputs": [
    {
     "name": "stdout",
     "output_type": "stream",
     "text": [
      "10 20 \n",
      "200\n"
     ]
    }
   ],
   "source": [
    "a,b = map(int,input().split())\n",
    "print (a*b)"
   ]
  },
  {
   "cell_type": "markdown",
   "metadata": {},
   "source": [
    "### P5705 【深基2.例7】数字反转 题目描述\n",
    "\n",
    "输入一个不小于 100100100 且小于 100010001000，同时包括小数点后一位的一个浮点数，例如 123.4，要求把这个数字翻转过来，变成 4.321 并输出。输入一行浮点数，输出一行浮点数。\n"
   ]
  },
  {
   "cell_type": "code",
   "execution_count": 4,
   "metadata": {},
   "outputs": [
    {
     "name": "stdout",
     "output_type": "stream",
     "text": [
      "12.3\n",
      "3.21\n"
     ]
    }
   ],
   "source": [
    "a =list(input() )\n",
    "a.reverse()\n",
    "\n",
    "print((float(''.join(a))))\n"
   ]
  }
 ],
 "metadata": {
  "kernelspec": {
   "display_name": "Python 3",
   "language": "python",
   "name": "python3"
  },
  "language_info": {
   "codemirror_mode": {
    "name": "ipython",
    "version": 3
   },
   "file_extension": ".py",
   "mimetype": "text/x-python",
   "name": "python",
   "nbconvert_exporter": "python",
   "pygments_lexer": "ipython3",
   "version": "3.8.3"
  }
 },
 "nbformat": 4,
 "nbformat_minor": 4
}
